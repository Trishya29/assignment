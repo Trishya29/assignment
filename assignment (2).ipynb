{
 "cells": [
  {
   "cell_type": "code",
   "execution_count": 1,
   "metadata": {},
   "outputs": [
    {
     "name": "stdout",
     "output_type": "stream",
     "text": [
      "3 2 1 1 0 "
     ]
    }
   ],
   "source": [
    "# printing fibonacci series(reverse)\n",
    "def reverseFib(n):\n",
    "    a = [0] * n \n",
    "    a[0] = 0 \n",
    "    a[1] = 1 \n",
    "    for i in range(2, n):  \n",
    "        a[i] = a[i - 2] + a[i - 1] \n",
    "    for i in range(n - 1, -1 , -1):  \n",
    "        print(a[i],end=\" \") \n",
    "        \n",
    "n = 5 \n",
    "reverseFib(n)\n"
   ]
  },
  {
   "cell_type": "code",
   "execution_count": 3,
   "metadata": {},
   "outputs": [
    {
     "name": "stdout",
     "output_type": "stream",
     "text": [
      "1  2  4  8  16  32  64  "
     ]
    }
   ],
   "source": [
    "# Series Generations:-  1, 3, 9, 27, 81, ...\n",
    "def seriesGen2(n):\n",
    "   i=1\n",
    "   while i<=n:\n",
    "       print(i,end=\"  \")\n",
    "       i=i*2\n",
    "   return\n",
    "seriesGen2(100)"
   ]
  },
  {
   "cell_type": "code",
   "execution_count": 4,
   "metadata": {},
   "outputs": [
    {
     "name": "stdout",
     "output_type": "stream",
     "text": [
      "1 3 9 27 81 The 5 th term of the series is : 162\n"
     ]
    }
   ],
   "source": [
    "\n",
    "# Series Generation\n",
    "\n",
    "def seriesgeneration(n):\n",
    "   i=1\n",
    "   while i<=n:\n",
    "       print(i,end=\" \")\n",
    "       i=i*3\n",
    "   return\n",
    "seriesgeneration(100)\n",
    "# term of geometric progression  \n",
    "import math  \n",
    " \n",
    "def Nth_of_GP(a, r, N):  \n",
    "   return( a * (int)(math.pow(r, N - 1)) )  \n",
    "a = 2\n",
    "r = 3 \n",
    "N = 5   \n",
    "print(\"The\", N, \"th term of the series is :\",  \n",
    "                           Nth_of_GP(a, r, N))\n"
   ]
  },
  {
   "cell_type": "code",
   "execution_count": null,
   "metadata": {},
   "outputs": [],
   "source": []
  }
 ],
 "metadata": {
  "kernelspec": {
   "display_name": "Python 3",
   "language": "python",
   "name": "python3"
  },
  "language_info": {
   "codemirror_mode": {
    "name": "ipython",
    "version": 3
   },
   "file_extension": ".py",
   "mimetype": "text/x-python",
   "name": "python",
   "nbconvert_exporter": "python",
   "pygments_lexer": "ipython3",
   "version": "3.7.3"
  }
 },
 "nbformat": 4,
 "nbformat_minor": 2
}
